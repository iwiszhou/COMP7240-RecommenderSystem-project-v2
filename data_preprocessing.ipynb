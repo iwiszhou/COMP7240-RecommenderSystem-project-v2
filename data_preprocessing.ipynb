{
 "cells": [
  {
   "cell_type": "code",
   "execution_count": 1,
   "metadata": {},
   "outputs": [],
   "source": [
    "import zipfile\n",
    "\n",
    "zip_file = zipfile.ZipFile('archive.zip')\n",
    "zip_file.extractall()\n",
    "zip_file.close()"
   ]
  },
  {
   "cell_type": "code",
   "execution_count": 2,
   "metadata": {},
   "outputs": [],
   "source": [
    "import pandas as pd\n",
    "\n",
    "df = pd.read_csv('steam_games.csv')"
   ]
  },
  {
   "cell_type": "code",
   "execution_count": 3,
   "metadata": {},
   "outputs": [
    {
     "name": "stdout",
     "output_type": "stream",
     "text": [
      "<class 'pandas.core.frame.DataFrame'>\n",
      "RangeIndex: 40833 entries, 0 to 40832\n",
      "Data columns (total 20 columns):\n",
      " #   Column                    Non-Null Count  Dtype  \n",
      "---  ------                    --------------  -----  \n",
      " 0   url                       40833 non-null  object \n",
      " 1   types                     40831 non-null  object \n",
      " 2   name                      40817 non-null  object \n",
      " 3   desc_snippet              27612 non-null  object \n",
      " 4   recent_reviews            2706 non-null   object \n",
      " 5   all_reviews               28470 non-null  object \n",
      " 6   release_date              37654 non-null  object \n",
      " 7   developer                 40490 non-null  object \n",
      " 8   publisher                 35733 non-null  object \n",
      " 9   popular_tags              37888 non-null  object \n",
      " 10  game_details              40313 non-null  object \n",
      " 11  languages                 40797 non-null  object \n",
      " 12  achievements              12194 non-null  float64\n",
      " 13  genre                     40395 non-null  object \n",
      " 14  game_description          37920 non-null  object \n",
      " 15  mature_content            2897 non-null   object \n",
      " 16  minimum_requirements      21069 non-null  object \n",
      " 17  recommended_requirements  21075 non-null  object \n",
      " 18  original_price            35522 non-null  object \n",
      " 19  discount_price            14543 non-null  object \n",
      "dtypes: float64(1), object(19)\n",
      "memory usage: 6.2+ MB\n"
     ]
    }
   ],
   "source": [
    "df.info()"
   ]
  },
  {
   "cell_type": "code",
   "execution_count": 4,
   "metadata": {},
   "outputs": [
    {
     "data": {
      "text/html": [
       "<div>\n",
       "<style scoped>\n",
       "    .dataframe tbody tr th:only-of-type {\n",
       "        vertical-align: middle;\n",
       "    }\n",
       "\n",
       "    .dataframe tbody tr th {\n",
       "        vertical-align: top;\n",
       "    }\n",
       "\n",
       "    .dataframe thead th {\n",
       "        text-align: right;\n",
       "    }\n",
       "</style>\n",
       "<table border=\"1\" class=\"dataframe\">\n",
       "  <thead>\n",
       "    <tr style=\"text-align: right;\">\n",
       "      <th></th>\n",
       "      <th>achievements</th>\n",
       "    </tr>\n",
       "  </thead>\n",
       "  <tbody>\n",
       "    <tr>\n",
       "      <th>count</th>\n",
       "      <td>12194.000000</td>\n",
       "    </tr>\n",
       "    <tr>\n",
       "      <th>mean</th>\n",
       "      <td>77.237494</td>\n",
       "    </tr>\n",
       "    <tr>\n",
       "      <th>std</th>\n",
       "      <td>448.501848</td>\n",
       "    </tr>\n",
       "    <tr>\n",
       "      <th>min</th>\n",
       "      <td>1.000000</td>\n",
       "    </tr>\n",
       "    <tr>\n",
       "      <th>25%</th>\n",
       "      <td>12.000000</td>\n",
       "    </tr>\n",
       "    <tr>\n",
       "      <th>50%</th>\n",
       "      <td>21.000000</td>\n",
       "    </tr>\n",
       "    <tr>\n",
       "      <th>75%</th>\n",
       "      <td>38.000000</td>\n",
       "    </tr>\n",
       "    <tr>\n",
       "      <th>max</th>\n",
       "      <td>9821.000000</td>\n",
       "    </tr>\n",
       "  </tbody>\n",
       "</table>\n",
       "</div>"
      ],
      "text/plain": [
       "       achievements\n",
       "count  12194.000000\n",
       "mean      77.237494\n",
       "std      448.501848\n",
       "min        1.000000\n",
       "25%       12.000000\n",
       "50%       21.000000\n",
       "75%       38.000000\n",
       "max     9821.000000"
      ]
     },
     "execution_count": 4,
     "metadata": {},
     "output_type": "execute_result"
    }
   ],
   "source": [
    "df.describe()"
   ]
  },
  {
   "cell_type": "code",
   "execution_count": 5,
   "metadata": {},
   "outputs": [
    {
     "data": {
      "text/html": [
       "<div>\n",
       "<style scoped>\n",
       "    .dataframe tbody tr th:only-of-type {\n",
       "        vertical-align: middle;\n",
       "    }\n",
       "\n",
       "    .dataframe tbody tr th {\n",
       "        vertical-align: top;\n",
       "    }\n",
       "\n",
       "    .dataframe thead th {\n",
       "        text-align: right;\n",
       "    }\n",
       "</style>\n",
       "<table border=\"1\" class=\"dataframe\">\n",
       "  <thead>\n",
       "    <tr style=\"text-align: right;\">\n",
       "      <th></th>\n",
       "      <th>url</th>\n",
       "      <th>types</th>\n",
       "      <th>name</th>\n",
       "      <th>desc_snippet</th>\n",
       "      <th>recent_reviews</th>\n",
       "      <th>all_reviews</th>\n",
       "      <th>release_date</th>\n",
       "      <th>developer</th>\n",
       "      <th>publisher</th>\n",
       "      <th>popular_tags</th>\n",
       "      <th>game_details</th>\n",
       "      <th>languages</th>\n",
       "      <th>achievements</th>\n",
       "      <th>genre</th>\n",
       "      <th>game_description</th>\n",
       "      <th>mature_content</th>\n",
       "      <th>minimum_requirements</th>\n",
       "      <th>recommended_requirements</th>\n",
       "      <th>original_price</th>\n",
       "      <th>discount_price</th>\n",
       "    </tr>\n",
       "  </thead>\n",
       "  <tbody>\n",
       "    <tr>\n",
       "      <th>0</th>\n",
       "      <td>https://store.steampowered.com/app/379720/DOOM/</td>\n",
       "      <td>app</td>\n",
       "      <td>DOOM</td>\n",
       "      <td>Now includes all three premium DLC packs (Unto...</td>\n",
       "      <td>Very Positive,(554),- 89% of the 554 user revi...</td>\n",
       "      <td>Very Positive,(42,550),- 92% of the 42,550 use...</td>\n",
       "      <td>May 12, 2016</td>\n",
       "      <td>id Software</td>\n",
       "      <td>Bethesda Softworks,Bethesda Softworks</td>\n",
       "      <td>FPS,Gore,Action,Demons,Shooter,First-Person,Gr...</td>\n",
       "      <td>Single-player,Multi-player,Co-op,Steam Achieve...</td>\n",
       "      <td>English,French,Italian,German,Spanish - Spain,...</td>\n",
       "      <td>54.0</td>\n",
       "      <td>Action</td>\n",
       "      <td>About This Game Developed by id software, the...</td>\n",
       "      <td>NaN</td>\n",
       "      <td>Minimum:,OS:,Windows 7/8.1/10 (64-bit versions...</td>\n",
       "      <td>Recommended:,OS:,Windows 7/8.1/10 (64-bit vers...</td>\n",
       "      <td>$19.99</td>\n",
       "      <td>$14.99</td>\n",
       "    </tr>\n",
       "    <tr>\n",
       "      <th>1</th>\n",
       "      <td>https://store.steampowered.com/app/578080/PLAY...</td>\n",
       "      <td>app</td>\n",
       "      <td>PLAYERUNKNOWN'S BATTLEGROUNDS</td>\n",
       "      <td>PLAYERUNKNOWN'S BATTLEGROUNDS is a battle roya...</td>\n",
       "      <td>Mixed,(6,214),- 49% of the 6,214 user reviews ...</td>\n",
       "      <td>Mixed,(836,608),- 49% of the 836,608 user revi...</td>\n",
       "      <td>Dec 21, 2017</td>\n",
       "      <td>PUBG Corporation</td>\n",
       "      <td>PUBG Corporation,PUBG Corporation</td>\n",
       "      <td>Survival,Shooter,Multiplayer,Battle Royale,PvP...</td>\n",
       "      <td>Multi-player,Online Multi-Player,Stats</td>\n",
       "      <td>English,Korean,Simplified Chinese,French,Germa...</td>\n",
       "      <td>37.0</td>\n",
       "      <td>Action,Adventure,Massively Multiplayer</td>\n",
       "      <td>About This Game  PLAYERUNKNOWN'S BATTLEGROUND...</td>\n",
       "      <td>Mature Content Description  The developers de...</td>\n",
       "      <td>Minimum:,Requires a 64-bit processor and opera...</td>\n",
       "      <td>Recommended:,Requires a 64-bit processor and o...</td>\n",
       "      <td>$29.99</td>\n",
       "      <td>NaN</td>\n",
       "    </tr>\n",
       "    <tr>\n",
       "      <th>2</th>\n",
       "      <td>https://store.steampowered.com/app/637090/BATT...</td>\n",
       "      <td>app</td>\n",
       "      <td>BATTLETECH</td>\n",
       "      <td>Take command of your own mercenary outfit of '...</td>\n",
       "      <td>Mixed,(166),- 54% of the 166 user reviews in t...</td>\n",
       "      <td>Mostly Positive,(7,030),- 71% of the 7,030 use...</td>\n",
       "      <td>Apr 24, 2018</td>\n",
       "      <td>Harebrained Schemes</td>\n",
       "      <td>Paradox Interactive,Paradox Interactive</td>\n",
       "      <td>Mechs,Strategy,Turn-Based,Turn-Based Tactics,S...</td>\n",
       "      <td>Single-player,Multi-player,Online Multi-Player...</td>\n",
       "      <td>English,French,German,Russian</td>\n",
       "      <td>128.0</td>\n",
       "      <td>Action,Adventure,Strategy</td>\n",
       "      <td>About This Game  From original BATTLETECH/Mec...</td>\n",
       "      <td>NaN</td>\n",
       "      <td>Minimum:,Requires a 64-bit processor and opera...</td>\n",
       "      <td>Recommended:,Requires a 64-bit processor and o...</td>\n",
       "      <td>$39.99</td>\n",
       "      <td>NaN</td>\n",
       "    </tr>\n",
       "    <tr>\n",
       "      <th>3</th>\n",
       "      <td>https://store.steampowered.com/app/221100/DayZ/</td>\n",
       "      <td>app</td>\n",
       "      <td>DayZ</td>\n",
       "      <td>The post-soviet country of Chernarus is struck...</td>\n",
       "      <td>Mixed,(932),- 57% of the 932 user reviews in t...</td>\n",
       "      <td>Mixed,(167,115),- 61% of the 167,115 user revi...</td>\n",
       "      <td>Dec 13, 2018</td>\n",
       "      <td>Bohemia Interactive</td>\n",
       "      <td>Bohemia Interactive,Bohemia Interactive</td>\n",
       "      <td>Survival,Zombies,Open World,Multiplayer,PvP,Ma...</td>\n",
       "      <td>Multi-player,Online Multi-Player,Steam Worksho...</td>\n",
       "      <td>English,French,Italian,German,Spanish - Spain,...</td>\n",
       "      <td>NaN</td>\n",
       "      <td>Action,Adventure,Massively Multiplayer</td>\n",
       "      <td>About This Game The post-soviet country of Ch...</td>\n",
       "      <td>NaN</td>\n",
       "      <td>Minimum:,OS:,Windows 7/8.1 64-bit,Processor:,I...</td>\n",
       "      <td>Recommended:,OS:,Windows 10 64-bit,Processor:,...</td>\n",
       "      <td>$44.99</td>\n",
       "      <td>NaN</td>\n",
       "    </tr>\n",
       "    <tr>\n",
       "      <th>4</th>\n",
       "      <td>https://store.steampowered.com/app/8500/EVE_On...</td>\n",
       "      <td>app</td>\n",
       "      <td>EVE Online</td>\n",
       "      <td>EVE Online is a community-driven spaceship MMO...</td>\n",
       "      <td>Mixed,(287),- 54% of the 287 user reviews in t...</td>\n",
       "      <td>Mostly Positive,(11,481),- 74% of the 11,481 u...</td>\n",
       "      <td>May 6, 2003</td>\n",
       "      <td>CCP</td>\n",
       "      <td>CCP,CCP</td>\n",
       "      <td>Space,Massively Multiplayer,Sci-fi,Sandbox,MMO...</td>\n",
       "      <td>Multi-player,Online Multi-Player,MMO,Co-op,Onl...</td>\n",
       "      <td>English,German,Russian,French</td>\n",
       "      <td>NaN</td>\n",
       "      <td>Action,Free to Play,Massively Multiplayer,RPG,...</td>\n",
       "      <td>About This Game</td>\n",
       "      <td>NaN</td>\n",
       "      <td>Minimum:,OS:,Windows 7,Processor:,Intel Dual C...</td>\n",
       "      <td>Recommended:,OS:,Windows 10,Processor:,Intel i...</td>\n",
       "      <td>Free</td>\n",
       "      <td>NaN</td>\n",
       "    </tr>\n",
       "  </tbody>\n",
       "</table>\n",
       "</div>"
      ],
      "text/plain": [
       "                                                 url types  \\\n",
       "0    https://store.steampowered.com/app/379720/DOOM/   app   \n",
       "1  https://store.steampowered.com/app/578080/PLAY...   app   \n",
       "2  https://store.steampowered.com/app/637090/BATT...   app   \n",
       "3    https://store.steampowered.com/app/221100/DayZ/   app   \n",
       "4  https://store.steampowered.com/app/8500/EVE_On...   app   \n",
       "\n",
       "                            name  \\\n",
       "0                           DOOM   \n",
       "1  PLAYERUNKNOWN'S BATTLEGROUNDS   \n",
       "2                     BATTLETECH   \n",
       "3                           DayZ   \n",
       "4                     EVE Online   \n",
       "\n",
       "                                        desc_snippet  \\\n",
       "0  Now includes all three premium DLC packs (Unto...   \n",
       "1  PLAYERUNKNOWN'S BATTLEGROUNDS is a battle roya...   \n",
       "2  Take command of your own mercenary outfit of '...   \n",
       "3  The post-soviet country of Chernarus is struck...   \n",
       "4  EVE Online is a community-driven spaceship MMO...   \n",
       "\n",
       "                                      recent_reviews  \\\n",
       "0  Very Positive,(554),- 89% of the 554 user revi...   \n",
       "1  Mixed,(6,214),- 49% of the 6,214 user reviews ...   \n",
       "2  Mixed,(166),- 54% of the 166 user reviews in t...   \n",
       "3  Mixed,(932),- 57% of the 932 user reviews in t...   \n",
       "4  Mixed,(287),- 54% of the 287 user reviews in t...   \n",
       "\n",
       "                                         all_reviews  release_date  \\\n",
       "0  Very Positive,(42,550),- 92% of the 42,550 use...  May 12, 2016   \n",
       "1  Mixed,(836,608),- 49% of the 836,608 user revi...  Dec 21, 2017   \n",
       "2  Mostly Positive,(7,030),- 71% of the 7,030 use...  Apr 24, 2018   \n",
       "3  Mixed,(167,115),- 61% of the 167,115 user revi...  Dec 13, 2018   \n",
       "4  Mostly Positive,(11,481),- 74% of the 11,481 u...   May 6, 2003   \n",
       "\n",
       "             developer                                publisher  \\\n",
       "0          id Software    Bethesda Softworks,Bethesda Softworks   \n",
       "1     PUBG Corporation        PUBG Corporation,PUBG Corporation   \n",
       "2  Harebrained Schemes  Paradox Interactive,Paradox Interactive   \n",
       "3  Bohemia Interactive  Bohemia Interactive,Bohemia Interactive   \n",
       "4                  CCP                                  CCP,CCP   \n",
       "\n",
       "                                        popular_tags  \\\n",
       "0  FPS,Gore,Action,Demons,Shooter,First-Person,Gr...   \n",
       "1  Survival,Shooter,Multiplayer,Battle Royale,PvP...   \n",
       "2  Mechs,Strategy,Turn-Based,Turn-Based Tactics,S...   \n",
       "3  Survival,Zombies,Open World,Multiplayer,PvP,Ma...   \n",
       "4  Space,Massively Multiplayer,Sci-fi,Sandbox,MMO...   \n",
       "\n",
       "                                        game_details  \\\n",
       "0  Single-player,Multi-player,Co-op,Steam Achieve...   \n",
       "1             Multi-player,Online Multi-Player,Stats   \n",
       "2  Single-player,Multi-player,Online Multi-Player...   \n",
       "3  Multi-player,Online Multi-Player,Steam Worksho...   \n",
       "4  Multi-player,Online Multi-Player,MMO,Co-op,Onl...   \n",
       "\n",
       "                                           languages  achievements  \\\n",
       "0  English,French,Italian,German,Spanish - Spain,...          54.0   \n",
       "1  English,Korean,Simplified Chinese,French,Germa...          37.0   \n",
       "2                      English,French,German,Russian         128.0   \n",
       "3  English,French,Italian,German,Spanish - Spain,...           NaN   \n",
       "4                      English,German,Russian,French           NaN   \n",
       "\n",
       "                                               genre  \\\n",
       "0                                             Action   \n",
       "1             Action,Adventure,Massively Multiplayer   \n",
       "2                          Action,Adventure,Strategy   \n",
       "3             Action,Adventure,Massively Multiplayer   \n",
       "4  Action,Free to Play,Massively Multiplayer,RPG,...   \n",
       "\n",
       "                                    game_description  \\\n",
       "0   About This Game Developed by id software, the...   \n",
       "1   About This Game  PLAYERUNKNOWN'S BATTLEGROUND...   \n",
       "2   About This Game  From original BATTLETECH/Mec...   \n",
       "3   About This Game The post-soviet country of Ch...   \n",
       "4                                  About This Game     \n",
       "\n",
       "                                      mature_content  \\\n",
       "0                                                NaN   \n",
       "1   Mature Content Description  The developers de...   \n",
       "2                                                NaN   \n",
       "3                                                NaN   \n",
       "4                                                NaN   \n",
       "\n",
       "                                minimum_requirements  \\\n",
       "0  Minimum:,OS:,Windows 7/8.1/10 (64-bit versions...   \n",
       "1  Minimum:,Requires a 64-bit processor and opera...   \n",
       "2  Minimum:,Requires a 64-bit processor and opera...   \n",
       "3  Minimum:,OS:,Windows 7/8.1 64-bit,Processor:,I...   \n",
       "4  Minimum:,OS:,Windows 7,Processor:,Intel Dual C...   \n",
       "\n",
       "                            recommended_requirements original_price  \\\n",
       "0  Recommended:,OS:,Windows 7/8.1/10 (64-bit vers...         $19.99   \n",
       "1  Recommended:,Requires a 64-bit processor and o...         $29.99   \n",
       "2  Recommended:,Requires a 64-bit processor and o...         $39.99   \n",
       "3  Recommended:,OS:,Windows 10 64-bit,Processor:,...         $44.99   \n",
       "4  Recommended:,OS:,Windows 10,Processor:,Intel i...           Free   \n",
       "\n",
       "  discount_price  \n",
       "0         $14.99  \n",
       "1            NaN  \n",
       "2            NaN  \n",
       "3            NaN  \n",
       "4            NaN  "
      ]
     },
     "execution_count": 5,
     "metadata": {},
     "output_type": "execute_result"
    }
   ],
   "source": [
    "df.head()"
   ]
  },
  {
   "cell_type": "code",
   "execution_count": 6,
   "metadata": {},
   "outputs": [],
   "source": [
    "# Drop some useless columns\n",
    "\n",
    "useless_columns = ['types', 'desc_snippet', 'recent_reviews', 'languages', 'achievements', 'mature_content', 'minimum_requirements', 'recommended_requirements']\n",
    "\n",
    "df = df.drop(useless_columns, axis=1)"
   ]
  },
  {
   "cell_type": "code",
   "execution_count": 7,
   "metadata": {},
   "outputs": [
    {
     "data": {
      "text/html": [
       "<div>\n",
       "<style scoped>\n",
       "    .dataframe tbody tr th:only-of-type {\n",
       "        vertical-align: middle;\n",
       "    }\n",
       "\n",
       "    .dataframe tbody tr th {\n",
       "        vertical-align: top;\n",
       "    }\n",
       "\n",
       "    .dataframe thead th {\n",
       "        text-align: right;\n",
       "    }\n",
       "</style>\n",
       "<table border=\"1\" class=\"dataframe\">\n",
       "  <thead>\n",
       "    <tr style=\"text-align: right;\">\n",
       "      <th></th>\n",
       "      <th>url</th>\n",
       "      <th>name</th>\n",
       "      <th>all_reviews</th>\n",
       "      <th>release_date</th>\n",
       "      <th>developer</th>\n",
       "      <th>publisher</th>\n",
       "      <th>popular_tags</th>\n",
       "      <th>game_details</th>\n",
       "      <th>genre</th>\n",
       "      <th>game_description</th>\n",
       "      <th>original_price</th>\n",
       "      <th>discount_price</th>\n",
       "    </tr>\n",
       "  </thead>\n",
       "  <tbody>\n",
       "    <tr>\n",
       "      <th>0</th>\n",
       "      <td>https://store.steampowered.com/app/379720/DOOM/</td>\n",
       "      <td>DOOM</td>\n",
       "      <td>Very Positive,(42,550),- 92% of the 42,550 use...</td>\n",
       "      <td>May 12, 2016</td>\n",
       "      <td>id Software</td>\n",
       "      <td>Bethesda Softworks,Bethesda Softworks</td>\n",
       "      <td>FPS,Gore,Action,Demons,Shooter,First-Person,Gr...</td>\n",
       "      <td>Single-player,Multi-player,Co-op,Steam Achieve...</td>\n",
       "      <td>Action</td>\n",
       "      <td>About This Game Developed by id software, the...</td>\n",
       "      <td>$19.99</td>\n",
       "      <td>$14.99</td>\n",
       "    </tr>\n",
       "    <tr>\n",
       "      <th>1</th>\n",
       "      <td>https://store.steampowered.com/app/578080/PLAY...</td>\n",
       "      <td>PLAYERUNKNOWN'S BATTLEGROUNDS</td>\n",
       "      <td>Mixed,(836,608),- 49% of the 836,608 user revi...</td>\n",
       "      <td>Dec 21, 2017</td>\n",
       "      <td>PUBG Corporation</td>\n",
       "      <td>PUBG Corporation,PUBG Corporation</td>\n",
       "      <td>Survival,Shooter,Multiplayer,Battle Royale,PvP...</td>\n",
       "      <td>Multi-player,Online Multi-Player,Stats</td>\n",
       "      <td>Action,Adventure,Massively Multiplayer</td>\n",
       "      <td>About This Game  PLAYERUNKNOWN'S BATTLEGROUND...</td>\n",
       "      <td>$29.99</td>\n",
       "      <td>NaN</td>\n",
       "    </tr>\n",
       "    <tr>\n",
       "      <th>2</th>\n",
       "      <td>https://store.steampowered.com/app/637090/BATT...</td>\n",
       "      <td>BATTLETECH</td>\n",
       "      <td>Mostly Positive,(7,030),- 71% of the 7,030 use...</td>\n",
       "      <td>Apr 24, 2018</td>\n",
       "      <td>Harebrained Schemes</td>\n",
       "      <td>Paradox Interactive,Paradox Interactive</td>\n",
       "      <td>Mechs,Strategy,Turn-Based,Turn-Based Tactics,S...</td>\n",
       "      <td>Single-player,Multi-player,Online Multi-Player...</td>\n",
       "      <td>Action,Adventure,Strategy</td>\n",
       "      <td>About This Game  From original BATTLETECH/Mec...</td>\n",
       "      <td>$39.99</td>\n",
       "      <td>NaN</td>\n",
       "    </tr>\n",
       "    <tr>\n",
       "      <th>3</th>\n",
       "      <td>https://store.steampowered.com/app/221100/DayZ/</td>\n",
       "      <td>DayZ</td>\n",
       "      <td>Mixed,(167,115),- 61% of the 167,115 user revi...</td>\n",
       "      <td>Dec 13, 2018</td>\n",
       "      <td>Bohemia Interactive</td>\n",
       "      <td>Bohemia Interactive,Bohemia Interactive</td>\n",
       "      <td>Survival,Zombies,Open World,Multiplayer,PvP,Ma...</td>\n",
       "      <td>Multi-player,Online Multi-Player,Steam Worksho...</td>\n",
       "      <td>Action,Adventure,Massively Multiplayer</td>\n",
       "      <td>About This Game The post-soviet country of Ch...</td>\n",
       "      <td>$44.99</td>\n",
       "      <td>NaN</td>\n",
       "    </tr>\n",
       "    <tr>\n",
       "      <th>4</th>\n",
       "      <td>https://store.steampowered.com/app/8500/EVE_On...</td>\n",
       "      <td>EVE Online</td>\n",
       "      <td>Mostly Positive,(11,481),- 74% of the 11,481 u...</td>\n",
       "      <td>May 6, 2003</td>\n",
       "      <td>CCP</td>\n",
       "      <td>CCP,CCP</td>\n",
       "      <td>Space,Massively Multiplayer,Sci-fi,Sandbox,MMO...</td>\n",
       "      <td>Multi-player,Online Multi-Player,MMO,Co-op,Onl...</td>\n",
       "      <td>Action,Free to Play,Massively Multiplayer,RPG,...</td>\n",
       "      <td>About This Game</td>\n",
       "      <td>Free</td>\n",
       "      <td>NaN</td>\n",
       "    </tr>\n",
       "  </tbody>\n",
       "</table>\n",
       "</div>"
      ],
      "text/plain": [
       "                                                 url  \\\n",
       "0    https://store.steampowered.com/app/379720/DOOM/   \n",
       "1  https://store.steampowered.com/app/578080/PLAY...   \n",
       "2  https://store.steampowered.com/app/637090/BATT...   \n",
       "3    https://store.steampowered.com/app/221100/DayZ/   \n",
       "4  https://store.steampowered.com/app/8500/EVE_On...   \n",
       "\n",
       "                            name  \\\n",
       "0                           DOOM   \n",
       "1  PLAYERUNKNOWN'S BATTLEGROUNDS   \n",
       "2                     BATTLETECH   \n",
       "3                           DayZ   \n",
       "4                     EVE Online   \n",
       "\n",
       "                                         all_reviews  release_date  \\\n",
       "0  Very Positive,(42,550),- 92% of the 42,550 use...  May 12, 2016   \n",
       "1  Mixed,(836,608),- 49% of the 836,608 user revi...  Dec 21, 2017   \n",
       "2  Mostly Positive,(7,030),- 71% of the 7,030 use...  Apr 24, 2018   \n",
       "3  Mixed,(167,115),- 61% of the 167,115 user revi...  Dec 13, 2018   \n",
       "4  Mostly Positive,(11,481),- 74% of the 11,481 u...   May 6, 2003   \n",
       "\n",
       "             developer                                publisher  \\\n",
       "0          id Software    Bethesda Softworks,Bethesda Softworks   \n",
       "1     PUBG Corporation        PUBG Corporation,PUBG Corporation   \n",
       "2  Harebrained Schemes  Paradox Interactive,Paradox Interactive   \n",
       "3  Bohemia Interactive  Bohemia Interactive,Bohemia Interactive   \n",
       "4                  CCP                                  CCP,CCP   \n",
       "\n",
       "                                        popular_tags  \\\n",
       "0  FPS,Gore,Action,Demons,Shooter,First-Person,Gr...   \n",
       "1  Survival,Shooter,Multiplayer,Battle Royale,PvP...   \n",
       "2  Mechs,Strategy,Turn-Based,Turn-Based Tactics,S...   \n",
       "3  Survival,Zombies,Open World,Multiplayer,PvP,Ma...   \n",
       "4  Space,Massively Multiplayer,Sci-fi,Sandbox,MMO...   \n",
       "\n",
       "                                        game_details  \\\n",
       "0  Single-player,Multi-player,Co-op,Steam Achieve...   \n",
       "1             Multi-player,Online Multi-Player,Stats   \n",
       "2  Single-player,Multi-player,Online Multi-Player...   \n",
       "3  Multi-player,Online Multi-Player,Steam Worksho...   \n",
       "4  Multi-player,Online Multi-Player,MMO,Co-op,Onl...   \n",
       "\n",
       "                                               genre  \\\n",
       "0                                             Action   \n",
       "1             Action,Adventure,Massively Multiplayer   \n",
       "2                          Action,Adventure,Strategy   \n",
       "3             Action,Adventure,Massively Multiplayer   \n",
       "4  Action,Free to Play,Massively Multiplayer,RPG,...   \n",
       "\n",
       "                                    game_description original_price  \\\n",
       "0   About This Game Developed by id software, the...         $19.99   \n",
       "1   About This Game  PLAYERUNKNOWN'S BATTLEGROUND...         $29.99   \n",
       "2   About This Game  From original BATTLETECH/Mec...         $39.99   \n",
       "3   About This Game The post-soviet country of Ch...         $44.99   \n",
       "4                                  About This Game             Free   \n",
       "\n",
       "  discount_price  \n",
       "0         $14.99  \n",
       "1            NaN  \n",
       "2            NaN  \n",
       "3            NaN  \n",
       "4            NaN  "
      ]
     },
     "execution_count": 7,
     "metadata": {},
     "output_type": "execute_result"
    }
   ],
   "source": [
    "df.head()"
   ]
  },
  {
   "cell_type": "code",
   "execution_count": 8,
   "metadata": {},
   "outputs": [
    {
     "data": {
      "text/plain": [
       "url                     0\n",
       "name                   16\n",
       "all_reviews         12363\n",
       "release_date         3179\n",
       "developer             343\n",
       "publisher            5100\n",
       "popular_tags         2945\n",
       "game_details          520\n",
       "genre                 438\n",
       "game_description     2913\n",
       "original_price       5311\n",
       "discount_price      26290\n",
       "dtype: int64"
      ]
     },
     "execution_count": 8,
     "metadata": {},
     "output_type": "execute_result"
    }
   ],
   "source": [
    "df.isna().sum()"
   ]
  },
  {
   "cell_type": "code",
   "execution_count": 9,
   "metadata": {},
   "outputs": [],
   "source": [
    "# Drop some rows with null values\n",
    "\n",
    "columns_should_not_be_null = ['all_reviews', 'name', 'popular_tags', 'game_details', 'genre', 'game_description']\n",
    "\n",
    "for column in columns_should_not_be_null:\n",
    "    df = df.drop(index=df[pd.isna(df[column])].index, axis=0)"
   ]
  },
  {
   "cell_type": "code",
   "execution_count": 10,
   "metadata": {},
   "outputs": [
    {
     "data": {
      "text/plain": [
       "(27858, 12)"
      ]
     },
     "execution_count": 10,
     "metadata": {},
     "output_type": "execute_result"
    }
   ],
   "source": [
    "df.shape"
   ]
  },
  {
   "cell_type": "code",
   "execution_count": 11,
   "metadata": {},
   "outputs": [
    {
     "data": {
      "text/plain": [
       "url                     0\n",
       "name                    0\n",
       "all_reviews             0\n",
       "release_date          113\n",
       "developer             122\n",
       "publisher            2021\n",
       "popular_tags            0\n",
       "game_details            0\n",
       "genre                   0\n",
       "game_description        0\n",
       "original_price        612\n",
       "discount_price      18489\n",
       "dtype: int64"
      ]
     },
     "execution_count": 11,
     "metadata": {},
     "output_type": "execute_result"
    }
   ],
   "source": [
    "df.isna().sum()"
   ]
  },
  {
   "cell_type": "code",
   "execution_count": 12,
   "metadata": {},
   "outputs": [],
   "source": [
    "df_backup_0 = df.copy(deep=True)"
   ]
  },
  {
   "cell_type": "code",
   "execution_count": 13,
   "metadata": {},
   "outputs": [],
   "source": [
    "# Merge \"original_price\" and \"discount_price\" into \"price\"\n",
    "\n",
    "for index in df[pd.isna(df['original_price'])].index:\n",
    "    df.loc[index, 'original_price'] = df.loc[index, 'discount_price']\n",
    "\n",
    "df = df.drop(index=df[pd.isna(df['original_price'])].index, axis=0)\n",
    "\n",
    "df = df.drop('discount_price', axis=1)\n",
    "\n",
    "df = df.rename(columns={'original_price': 'price'})"
   ]
  },
  {
   "cell_type": "code",
   "execution_count": 14,
   "metadata": {},
   "outputs": [
    {
     "name": "stdout",
     "output_type": "stream",
     "text": [
      "<class 'pandas.core.frame.DataFrame'>\n",
      "Index: 27296 entries, 0 to 40811\n",
      "Data columns (total 11 columns):\n",
      " #   Column            Non-Null Count  Dtype \n",
      "---  ------            --------------  ----- \n",
      " 0   url               27296 non-null  object\n",
      " 1   name              27296 non-null  object\n",
      " 2   all_reviews       27296 non-null  object\n",
      " 3   release_date      27198 non-null  object\n",
      " 4   developer         27181 non-null  object\n",
      " 5   publisher         25358 non-null  object\n",
      " 6   popular_tags      27296 non-null  object\n",
      " 7   game_details      27296 non-null  object\n",
      " 8   genre             27296 non-null  object\n",
      " 9   game_description  27296 non-null  object\n",
      " 10  price             27296 non-null  object\n",
      "dtypes: object(11)\n",
      "memory usage: 2.5+ MB\n"
     ]
    }
   ],
   "source": [
    "df.info()"
   ]
  },
  {
   "cell_type": "code",
   "execution_count": 15,
   "metadata": {},
   "outputs": [
    {
     "data": {
      "text/plain": [
       "url                    0\n",
       "name                   0\n",
       "all_reviews            0\n",
       "release_date          98\n",
       "developer            115\n",
       "publisher           1938\n",
       "popular_tags           0\n",
       "game_details           0\n",
       "genre                  0\n",
       "game_description       0\n",
       "price                  0\n",
       "dtype: int64"
      ]
     },
     "execution_count": 15,
     "metadata": {},
     "output_type": "execute_result"
    }
   ],
   "source": [
    "df.isna().sum()"
   ]
  },
  {
   "cell_type": "code",
   "execution_count": 16,
   "metadata": {},
   "outputs": [],
   "source": [
    "df_backup_1 = df.copy(deep=True)"
   ]
  },
  {
   "cell_type": "code",
   "execution_count": 17,
   "metadata": {},
   "outputs": [],
   "source": [
    "# Drop some rows with null values again\n",
    "\n",
    "columns_should_not_be_null = ['release_date', 'developer', 'publisher']\n",
    "\n",
    "for column in columns_should_not_be_null:\n",
    "    df = df.drop(index=df[pd.isna(df[column])].index, axis=0)"
   ]
  },
  {
   "cell_type": "code",
   "execution_count": 18,
   "metadata": {},
   "outputs": [
    {
     "data": {
      "text/plain": [
       "url                 0\n",
       "name                0\n",
       "all_reviews         0\n",
       "release_date        0\n",
       "developer           0\n",
       "publisher           0\n",
       "popular_tags        0\n",
       "game_details        0\n",
       "genre               0\n",
       "game_description    0\n",
       "price               0\n",
       "dtype: int64"
      ]
     },
     "execution_count": 18,
     "metadata": {},
     "output_type": "execute_result"
    }
   ],
   "source": [
    "df.isna().sum()"
   ]
  },
  {
   "cell_type": "code",
   "execution_count": 19,
   "metadata": {},
   "outputs": [
    {
     "data": {
      "text/plain": [
       "(25227, 11)"
      ]
     },
     "execution_count": 19,
     "metadata": {},
     "output_type": "execute_result"
    }
   ],
   "source": [
    "df.shape"
   ]
  },
  {
   "cell_type": "code",
   "execution_count": 20,
   "metadata": {},
   "outputs": [],
   "source": [
    "df_backup_2 = df.copy(deep=True)"
   ]
  },
  {
   "cell_type": "code",
   "execution_count": 21,
   "metadata": {},
   "outputs": [],
   "source": [
    "df = df_backup_2.copy(deep=True)"
   ]
  },
  {
   "cell_type": "code",
   "execution_count": 22,
   "metadata": {},
   "outputs": [],
   "source": [
    "# Create column \"all_reviews_simple\"\n",
    "\n",
    "review_levels = ['Overwhelmingly Negative', 'Very Negative', 'Negative', 'Mostly Negative', 'Mixed', 'Mostly Positive', 'Positive', 'Very Positive', 'Overwhelmingly Positive']\n",
    "\n",
    "simple_reviews = list()\n",
    "for index in df.index:\n",
    "    simple_review = df.loc[index, 'all_reviews'].split(',')[0]\n",
    "    if simple_review not in review_levels:\n",
    "        simple_review = \"Too Few Reviews\"\n",
    "    simple_reviews.append(simple_review)\n",
    "df.insert(loc=3, column='all_reviews_simple', value=simple_reviews)"
   ]
  },
  {
   "cell_type": "code",
   "execution_count": 23,
   "metadata": {},
   "outputs": [],
   "source": [
    "df_backup_3 = df.copy(deep=True)"
   ]
  },
  {
   "cell_type": "code",
   "execution_count": 24,
   "metadata": {},
   "outputs": [],
   "source": [
    "df = df_backup_3.copy(deep=True)"
   ]
  },
  {
   "cell_type": "code",
   "execution_count": 25,
   "metadata": {},
   "outputs": [],
   "source": [
    "# Create column \"all_reviews_simple\"\n",
    "\n",
    "# Steam Review Explanation:\n",
    "# Overwhelmingly Positive (95 - 99%)\n",
    "# Very Positive (80 - 94% or 95 - 99% with moderate reviews)\n",
    "# Positive (80 - 99% with few reviews)\n",
    "# Mostly Positive (70 - 79%)\n",
    "# Mixed (40 - 69%)\n",
    "# Mostly Negative (20 - 39%)\n",
    "# Negative (0 - 19% with few reviews)\n",
    "# Very Negative (0 - 19%)\n",
    "# Overwhelmingly Negative (0 - 19% with moderate reviews)\n",
    "# Too Few Reviews (less than 10 reviews)\n",
    "\n",
    "review_score = {'Too Few Reviews': 3,\n",
    "                'Overwhelmingly Negative': 1,\n",
    "                'Very Negative': 1,\n",
    "                'Negative': 2,\n",
    "                'Mostly Negative': 2,\n",
    "                'Mixed': 3,\n",
    "                'Mostly Positive': 4,\n",
    "                'Positive': 4,\n",
    "                'Very Positive': 5,\n",
    "                'Overwhelmingly Positive': 5}\n",
    "\n",
    "review_scores = list()\n",
    "for index in df.index:\n",
    "    review_scores.append(review_score[df.loc[index, 'all_reviews_simple']])\n",
    "df.insert(loc=4, column='all_reviews_score', value=review_scores)"
   ]
  },
  {
   "cell_type": "code",
   "execution_count": 26,
   "metadata": {},
   "outputs": [
    {
     "name": "stdout",
     "output_type": "stream",
     "text": [
      "<class 'pandas.core.frame.DataFrame'>\n",
      "Index: 25227 entries, 0 to 40811\n",
      "Data columns (total 13 columns):\n",
      " #   Column              Non-Null Count  Dtype \n",
      "---  ------              --------------  ----- \n",
      " 0   url                 25227 non-null  object\n",
      " 1   name                25227 non-null  object\n",
      " 2   all_reviews         25227 non-null  object\n",
      " 3   all_reviews_simple  25227 non-null  object\n",
      " 4   all_reviews_score   25227 non-null  int64 \n",
      " 5   release_date        25227 non-null  object\n",
      " 6   developer           25227 non-null  object\n",
      " 7   publisher           25227 non-null  object\n",
      " 8   popular_tags        25227 non-null  object\n",
      " 9   game_details        25227 non-null  object\n",
      " 10  genre               25227 non-null  object\n",
      " 11  game_description    25227 non-null  object\n",
      " 12  price               25227 non-null  object\n",
      "dtypes: int64(1), object(12)\n",
      "memory usage: 3.2+ MB\n"
     ]
    }
   ],
   "source": [
    "df.info()"
   ]
  },
  {
   "cell_type": "code",
   "execution_count": 27,
   "metadata": {},
   "outputs": [],
   "source": [
    "df_backup_4 = df.copy(deep=True)"
   ]
  },
  {
   "cell_type": "code",
   "execution_count": 28,
   "metadata": {},
   "outputs": [],
   "source": [
    "df = df_backup_4.copy(deep=True)"
   ]
  },
  {
   "cell_type": "code",
   "execution_count": 29,
   "metadata": {},
   "outputs": [],
   "source": [
    "# Delete \"About This Game\" segment in colomn \"game_description\"\n",
    "\n",
    "for index in df.index:\n",
    "    description = df.loc[index, 'game_description']\n",
    "    description = description.replace('About This Game', '')\n",
    "    description = description.strip()\n",
    "    df.loc[index, 'game_description'] = description"
   ]
  },
  {
   "cell_type": "code",
   "execution_count": 30,
   "metadata": {},
   "outputs": [],
   "source": [
    "df_backup_5 = df.copy(deep=True)"
   ]
  },
  {
   "cell_type": "code",
   "execution_count": 31,
   "metadata": {},
   "outputs": [],
   "source": [
    "# Normalize column \"price\" and create column \"price_numeric\"\n",
    "\n",
    "# import re\n",
    "\n",
    "price = df['price'].copy(deep=True)\n",
    "for index in df.index:\n",
    "    if df.loc[index, 'price'][0] == '$':\n",
    "        price[index] = price[index][1:]\n",
    "    else:\n",
    "        df.loc[index, 'price'] = \"Free to Play\"\n",
    "        price[index] = 0.00\n",
    "    # elif not bool(re.match(pattern=r'^\\d+(\\.\\d+)?$', string=df.loc[index, 'price'])):\n",
    "    #    df.loc[index, 'price'] = 0.00\n",
    "price = price.astype(pd.Float32Dtype())\n",
    "df.insert(loc=13, column='price_numeric', value=price)"
   ]
  },
  {
   "cell_type": "code",
   "execution_count": 32,
   "metadata": {},
   "outputs": [
    {
     "name": "stdout",
     "output_type": "stream",
     "text": [
      "<class 'pandas.core.frame.DataFrame'>\n",
      "Index: 25227 entries, 0 to 40811\n",
      "Data columns (total 14 columns):\n",
      " #   Column              Non-Null Count  Dtype  \n",
      "---  ------              --------------  -----  \n",
      " 0   url                 25227 non-null  object \n",
      " 1   name                25227 non-null  object \n",
      " 2   all_reviews         25227 non-null  object \n",
      " 3   all_reviews_simple  25227 non-null  object \n",
      " 4   all_reviews_score   25227 non-null  int64  \n",
      " 5   release_date        25227 non-null  object \n",
      " 6   developer           25227 non-null  object \n",
      " 7   publisher           25227 non-null  object \n",
      " 8   popular_tags        25227 non-null  object \n",
      " 9   game_details        25227 non-null  object \n",
      " 10  genre               25227 non-null  object \n",
      " 11  game_description    25227 non-null  object \n",
      " 12  price               25227 non-null  object \n",
      " 13  price_numeric       25227 non-null  Float32\n",
      "dtypes: Float32(1), int64(1), object(12)\n",
      "memory usage: 3.3+ MB\n"
     ]
    }
   ],
   "source": [
    "df.info()"
   ]
  },
  {
   "cell_type": "code",
   "execution_count": 33,
   "metadata": {},
   "outputs": [],
   "source": [
    "df_backup_6 = df.copy(deep=True)"
   ]
  },
  {
   "cell_type": "code",
   "execution_count": 34,
   "metadata": {},
   "outputs": [],
   "source": [
    "# Reset the DataFrame index\n",
    "\n",
    "df = df.reset_index(drop=True)"
   ]
  },
  {
   "cell_type": "code",
   "execution_count": 35,
   "metadata": {},
   "outputs": [],
   "source": [
    "df.to_csv(\"steam_games_cleaned.csv\")\n",
    "df.to_excel(\"steam_games_cleaned.xlsx\")"
   ]
  },
  {
   "cell_type": "code",
   "execution_count": 36,
   "metadata": {},
   "outputs": [],
   "source": [
    "df_backup_7 = df.copy(deep=True)"
   ]
  },
  {
   "cell_type": "code",
   "execution_count": 37,
   "metadata": {},
   "outputs": [],
   "source": [
    "# Generate One-Hot encoding from columns \"popular_tags\", \"game_details\" and \"genre\"\n",
    "\n",
    "steam_features_source_columns = ['popular_tags', 'game_details', 'genre']\n",
    "\n",
    "def get_features_string(index):\n",
    "    features = ''\n",
    "    for column in steam_features_source_columns:\n",
    "        features = features + ',' + df.loc[index, column]\n",
    "    features = features[1:]\n",
    "    return features\n",
    "\n",
    "def get_row_dict(features):\n",
    "    dic = dict()\n",
    "    for feature in features:\n",
    "        dic.update({feature: int(1)})\n",
    "    return dic\n",
    "\n",
    "steam_features = set()\n",
    "for column in steam_features_source_columns:\n",
    "    for index in df.index:\n",
    "        features = df.loc[index, column].split(',')\n",
    "        steam_features.update(features)\n",
    "steam_features = list(steam_features)\n",
    "\n",
    "rows = []\n",
    "for index in df.index:\n",
    "    features_string = get_features_string(index)\n",
    "    features_list = features_string.split(',')\n",
    "    rows.append(get_row_dict(features_list))\n",
    "\n",
    "one_hot = pd.DataFrame(rows, columns=steam_features)\n",
    "one_hot = one_hot.fillna(0)\n",
    "one_hot = one_hot.astype('int8')"
   ]
  },
  {
   "cell_type": "code",
   "execution_count": 38,
   "metadata": {},
   "outputs": [],
   "source": [
    "df_backup_8 = df.copy(deep=True)"
   ]
  },
  {
   "cell_type": "code",
   "execution_count": 39,
   "metadata": {},
   "outputs": [],
   "source": [
    "df = df.join(one_hot)"
   ]
  },
  {
   "cell_type": "code",
   "execution_count": 59,
   "metadata": {},
   "outputs": [
    {
     "name": "stdout",
     "output_type": "stream",
     "text": [
      "FSX Steam Edition: Toposim Australia Add-On\n",
      "Simulation,Single-player,Multi-player,Downloadable Content,Partial Controller Support,Simulation\n",
      "Simulation == 1 is True\n",
      "Single-player == 1 is True\n",
      "Multi-player == 1 is True\n",
      "Downloadable Content == 1 is True\n",
      "Partial Controller Support == 1 is True\n",
      "Simulation == 1 is True\n"
     ]
    }
   ],
   "source": [
    "import random\n",
    "\n",
    "def random_check(index=None):\n",
    "    if not index:\n",
    "        index = random.randint(0, len(df) - 1)\n",
    "    features_string = get_features_string(index)\n",
    "\n",
    "    print(df.loc[index, 'name'])\n",
    "    print(features_string)\n",
    "\n",
    "    features_list = features_string.split(',')\n",
    "    for feature in features_list:\n",
    "        print(f\"{feature} == 1 is {bool(df.loc[index, feature])}\")\n",
    "\n",
    "random_check()"
   ]
  },
  {
   "cell_type": "code",
   "execution_count": 60,
   "metadata": {},
   "outputs": [],
   "source": [
    "df.to_csv(\"steam_games_with_one_hot.csv\")"
   ]
  },
  {
   "cell_type": "code",
   "execution_count": null,
   "metadata": {},
   "outputs": [],
   "source": [
    "df.to_excel(\"steam_games_with_one_hot.xlsx\")"
   ]
  }
 ],
 "metadata": {
  "kernelspec": {
   "display_name": "comp7240",
   "language": "python",
   "name": "python3"
  },
  "language_info": {
   "codemirror_mode": {
    "name": "ipython",
    "version": 3
   },
   "file_extension": ".py",
   "mimetype": "text/x-python",
   "name": "python",
   "nbconvert_exporter": "python",
   "pygments_lexer": "ipython3",
   "version": "3.11.8"
  }
 },
 "nbformat": 4,
 "nbformat_minor": 2
}
