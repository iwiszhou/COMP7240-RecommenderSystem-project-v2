{
 "cells": [
  {
   "cell_type": "markdown",
   "metadata": {},
   "source": [
    "# Data Preprocessing\n",
    "\n",
    "23450320 XIAN Yilang, *DAAI*"
   ]
  },
  {
   "cell_type": "code",
   "execution_count": 320,
   "metadata": {},
   "outputs": [],
   "source": [
    "import zipfile\n",
    "\n",
    "zip_file = zipfile.ZipFile('archive.zip')\n",
    "zip_file.extractall()\n",
    "zip_file.close()"
   ]
  },
  {
   "cell_type": "code",
   "execution_count": 321,
   "metadata": {},
   "outputs": [],
   "source": [
    "import pandas as pd\n",
    "\n",
    "df = pd.read_csv('steam_games.csv')"
   ]
  },
  {
   "cell_type": "code",
   "execution_count": 322,
   "metadata": {},
   "outputs": [],
   "source": [
    "# Drop some useless columns\n",
    "\n",
    "useless_columns = ['types', 'desc_snippet', 'recent_reviews', 'languages', 'achievements', 'mature_content', 'minimum_requirements', 'recommended_requirements']\n",
    "\n",
    "df = df.drop(useless_columns, axis=1)"
   ]
  },
  {
   "cell_type": "code",
   "execution_count": 323,
   "metadata": {},
   "outputs": [],
   "source": [
    "# Drop some rows with null values\n",
    "\n",
    "columns_should_not_be_null = ['all_reviews', 'name', 'popular_tags', 'game_details', 'genre', 'game_description']\n",
    "\n",
    "for column in columns_should_not_be_null:\n",
    "    df = df.drop(index=df[pd.isna(df[column])].index, axis=0)"
   ]
  },
  {
   "cell_type": "code",
   "execution_count": 324,
   "metadata": {},
   "outputs": [],
   "source": [
    "# Merge \"original_price\" and \"discount_price\" into \"price\"\n",
    "\n",
    "for index in df[pd.isna(df['original_price'])].index:\n",
    "    df.loc[index, 'original_price'] = df.loc[index, 'discount_price']\n",
    "\n",
    "df = df.drop(index=df[pd.isna(df['original_price'])].index, axis=0)\n",
    "\n",
    "df = df.drop('discount_price', axis=1)\n",
    "\n",
    "df = df.rename(columns={'original_price': 'price'})"
   ]
  },
  {
   "cell_type": "code",
   "execution_count": 325,
   "metadata": {},
   "outputs": [],
   "source": [
    "# Drop some rows with null values again\n",
    "\n",
    "columns_should_not_be_null = ['release_date', 'developer', 'publisher']\n",
    "\n",
    "for column in columns_should_not_be_null:\n",
    "    df = df.drop(index=df[pd.isna(df[column])].index, axis=0)"
   ]
  },
  {
   "cell_type": "code",
   "execution_count": 326,
   "metadata": {},
   "outputs": [],
   "source": [
    "# Create column \"all_reviews_simple\"\n",
    "\n",
    "review_levels = ['Overwhelmingly Negative', 'Very Negative', 'Negative', 'Mostly Negative', 'Mixed', 'Mostly Positive', 'Positive', 'Very Positive', 'Overwhelmingly Positive']\n",
    "\n",
    "simple_reviews = list()\n",
    "for index in df.index:\n",
    "    simple_review = df.loc[index, 'all_reviews'].split(',')[0]\n",
    "    if simple_review not in review_levels:\n",
    "        simple_review = \"Too Few Reviews\"\n",
    "    simple_reviews.append(simple_review)\n",
    "df.insert(loc=3, column='all_reviews_simple', value=simple_reviews)"
   ]
  },
  {
   "cell_type": "code",
   "execution_count": 327,
   "metadata": {},
   "outputs": [],
   "source": [
    "# Create column \"all_reviews_simple\"\n",
    "\n",
    "# Steam Review Explanation:\n",
    "# Overwhelmingly Positive (95 - 99%)\n",
    "# Very Positive (80 - 94% or 95 - 99% with moderate reviews)\n",
    "# Positive (80 - 99% with few reviews)\n",
    "# Mostly Positive (70 - 79%)\n",
    "# Mixed (40 - 69%)\n",
    "# Mostly Negative (20 - 39%)\n",
    "# Negative (0 - 19% with few reviews)\n",
    "# Very Negative (0 - 19%)\n",
    "# Overwhelmingly Negative (0 - 19% with moderate reviews)\n",
    "# Too Few Reviews (less than 10 reviews)\n",
    "\n",
    "review_score = {'Too Few Reviews': 3,\n",
    "                'Overwhelmingly Negative': 1,\n",
    "                'Very Negative': 1,\n",
    "                'Negative': 2,\n",
    "                'Mostly Negative': 2,\n",
    "                'Mixed': 3,\n",
    "                'Mostly Positive': 4,\n",
    "                'Positive': 4,\n",
    "                'Very Positive': 5,\n",
    "                'Overwhelmingly Positive': 5}\n",
    "\n",
    "review_scores = list()\n",
    "for index in df.index:\n",
    "    review_scores.append(review_score[df.loc[index, 'all_reviews_simple']])\n",
    "df.insert(loc=4, column='all_reviews_score', value=review_scores)"
   ]
  },
  {
   "cell_type": "code",
   "execution_count": 328,
   "metadata": {},
   "outputs": [],
   "source": [
    "# Delete \"About This Game\" segment in colomn \"game_description\"\n",
    "\n",
    "for index in df.index:\n",
    "    description = df.loc[index, 'game_description']\n",
    "    description = description.replace('About This Game', '')\n",
    "    description = description.strip()\n",
    "    df.loc[index, 'game_description'] = description"
   ]
  },
  {
   "cell_type": "code",
   "execution_count": 329,
   "metadata": {},
   "outputs": [],
   "source": [
    "# Normalize column \"price\" and create column \"price_numeric\"\n",
    "\n",
    "# import re\n",
    "\n",
    "price = df['price'].copy(deep=True)\n",
    "for index in df.index:\n",
    "    if df.loc[index, 'price'][0] == '$':\n",
    "        price[index] = price[index][1:]\n",
    "    else:\n",
    "        df.loc[index, 'price'] = \"Free to Play\"\n",
    "        price[index] = 0.00\n",
    "    # elif not bool(re.match(pattern=r'^\\d+(\\.\\d+)?$', string=df.loc[index, 'price'])):\n",
    "    #    df.loc[index, 'price'] = 0.00\n",
    "price = price.astype(pd.Float32Dtype())\n",
    "df.insert(loc=13, column='price_numeric', value=price)"
   ]
  },
  {
   "cell_type": "code",
   "execution_count": 330,
   "metadata": {},
   "outputs": [],
   "source": [
    "# \"popular_tags\" maybe too many\n",
    "\n",
    "df = df.drop('popular_tags', axis=1)"
   ]
  },
  {
   "cell_type": "code",
   "execution_count": 331,
   "metadata": {},
   "outputs": [],
   "source": [
    "# Clean \"game_details\"\n",
    "\n",
    "import copy\n",
    "\n",
    "useless_game_details = [\n",
    "    'Captions available',\n",
    "    'Commentary available',\n",
    "    'Downloadable Content',\n",
    "    'Game demo',\n",
    "    'In-App Purchases',\n",
    "    'Includes Source SDK',\n",
    "    'Mods',\n",
    "    'Mods (require HL2)',\n",
    "    'Partial Controller Support',\n",
    "    'Profile Features Limited\\xa0\\r\\n\\t\\t\\t\\t\\t\\t\\t\\t\\t',\n",
    "    'Stats',\n",
    "    'Steam Achievements',\n",
    "    'Steam Cloud',\n",
    "    'Steam Leaderboards',\n",
    "    'Steam Trading Cards',\n",
    "    'Steam Turn Notifications',\n",
    "    'Steam Workshop',\n",
    "    'Steam is learning about this downloadable content\\xa0\\r\\n\\t\\t\\t\\t\\t\\t\\t\\t\\t',\n",
    "    'Steam is learning about this game\\xa0\\r\\n\\t\\t\\t\\t\\t\\t\\t\\t\\t',\n",
    "    'Steam is learning about this software\\xa0\\r\\n\\t\\t\\t\\t\\t\\t\\t\\t\\t',\n",
    "    'SteamVR Collectibles',\n",
    "    'Valve Anti-Cheat enabled',\n",
    "    'MMO'\n",
    "]\n",
    "\n",
    "for index in df.index:\n",
    "    game_details_list = df.loc[index, 'game_details'].split(',')\n",
    "    game_details_str = ''\n",
    "    for game_detail in game_details_list:\n",
    "        if game_detail not in useless_game_details:\n",
    "            game_details_str = game_details_str + ',' + game_detail\n",
    "    game_details_str = game_details_str[1:]\n",
    "    df.loc[index, 'game_details'] = copy.deepcopy(game_details_str)"
   ]
  },
  {
   "cell_type": "code",
   "execution_count": 332,
   "metadata": {},
   "outputs": [],
   "source": [
    "# Clean \"genre\"\n",
    "\n",
    "import copy\n",
    "\n",
    "useless_genre = [\n",
    "    'Accounting',\n",
    "    'Animation & Modeling',\n",
    "    'Audio Production',\n",
    "    'Design & Illustration',\n",
    "    'Early Access',\n",
    "    'Education',\n",
    "    'Free to Play',\n",
    "    'Game Development',\n",
    "    'Movie',\n",
    "    'Photo Editing',\n",
    "    'Software Training',\n",
    "    'Utilities',\n",
    "    'Video Production',\n",
    "    'Web Publishing'\n",
    "]\n",
    "\n",
    "for index in df.index:\n",
    "    genre_list = df.loc[index, 'genre'].split(',')\n",
    "    genre_str = ''\n",
    "    for genre in genre_list:\n",
    "        if genre not in useless_genre:\n",
    "            genre_str = genre_str + ',' + genre\n",
    "    genre_str = genre_str[1:]\n",
    "    df.loc[index, 'genre'] = copy.deepcopy(genre_str)"
   ]
  },
  {
   "cell_type": "code",
   "execution_count": 333,
   "metadata": {},
   "outputs": [],
   "source": [
    "# Merge \"game_details\" and \"genre\" into \"genre\"\n",
    "import copy\n",
    "\n",
    "for index in df.index:\n",
    "    if df.loc[index, 'game_details'] == '':\n",
    "        if df.loc[index, 'genre'] == '':\n",
    "            df = df.drop(index, axis=0)\n",
    "            continue\n",
    "        continue\n",
    "    if df.loc[index, 'genre'] == '':\n",
    "        df.loc[index, 'genre'] = copy.deepcopy(df.loc[index, 'game_details'])\n",
    "        continue\n",
    "    df.loc[index, 'genre'] = df.loc[index, 'game_details'] + ',' + df.loc[index, 'genre']\n",
    "\n",
    "df = df.drop('game_details', axis=1)"
   ]
  },
  {
   "cell_type": "code",
   "execution_count": 334,
   "metadata": {},
   "outputs": [],
   "source": [
    "# Drop some games whose \"genre == ''\" or \"game_description == ''\"\n",
    "\n",
    "for index in df.index:\n",
    "    if (df.loc[index, 'genre'] == '') or (df.loc[index, 'game_description'] == ''):\n",
    "        df = df.drop(index, axis=0)"
   ]
  },
  {
   "cell_type": "code",
   "execution_count": 335,
   "metadata": {},
   "outputs": [],
   "source": [
    "# Reset the DataFrame index\n",
    "\n",
    "df = df.reset_index(drop=True)"
   ]
  },
  {
   "cell_type": "code",
   "execution_count": 336,
   "metadata": {},
   "outputs": [],
   "source": [
    "# Drop Batman: Arkham City - Game of the Year Edition for its abnormal url\n",
    "\n",
    "df = df.drop(13697, axis=0)\n",
    "df = df.reset_index(drop=True)"
   ]
  },
  {
   "cell_type": "code",
   "execution_count": 337,
   "metadata": {},
   "outputs": [],
   "source": [
    "# Create game_id from url\n",
    "\n",
    "game_id = [] \n",
    "\n",
    "for index in df.index:\n",
    "\n",
    "    game_id.append(int(df.loc[index, 'url'].split('/')[-3]))\n",
    "    if not df.loc[index, 'url'].split('/')[-3].isdigit():\n",
    "        print(index)\n",
    "        print(df.loc[index], 'name')\n",
    "\n",
    "df.insert(loc=0, column='game_id', value=game_id)"
   ]
  },
  {
   "cell_type": "code",
   "execution_count": 338,
   "metadata": {},
   "outputs": [],
   "source": [
    "# Generate One-Hot encoding from column \"genre\"\n",
    "\n",
    "steam_features_source_columns = ['genre']\n",
    "\n",
    "def get_features_string(index):\n",
    "    features = ''\n",
    "    for column in steam_features_source_columns:\n",
    "        features = features + ',' + df.loc[index, column]\n",
    "    features = features[1:]\n",
    "    return features\n",
    "\n",
    "def get_row_dict(features):\n",
    "    dic = dict()\n",
    "    for feature in features:\n",
    "        dic.update({feature: int(1)})\n",
    "    return dic\n",
    "\n",
    "steam_features = set()\n",
    "for column in steam_features_source_columns:\n",
    "    for index in df.index:\n",
    "        features = df.loc[index, column].split(',')\n",
    "        steam_features.update(features)\n",
    "steam_features = list(steam_features)\n",
    "\n",
    "rows = []\n",
    "for index in df.index:\n",
    "    features_string = get_features_string(index)\n",
    "    features_list = features_string.split(',')\n",
    "    rows.append(get_row_dict(features_list))\n",
    "\n",
    "one_hot = pd.DataFrame(rows, columns=steam_features)\n",
    "one_hot = one_hot.fillna(0)\n",
    "one_hot = one_hot.astype('int8')"
   ]
  },
  {
   "cell_type": "code",
   "execution_count": 339,
   "metadata": {},
   "outputs": [],
   "source": [
    "df = df.join(one_hot)"
   ]
  },
  {
   "cell_type": "code",
   "execution_count": 352,
   "metadata": {},
   "outputs": [
    {
     "name": "stdout",
     "output_type": "stream",
     "text": [
      "8979\n",
      "HotFloor\n",
      "Single-player,Action\n",
      "Single-player == 1 is True\n",
      "Action == 1 is True\n"
     ]
    }
   ],
   "source": [
    "# Random check\n",
    "\n",
    "import random\n",
    "\n",
    "def random_check(index=None):\n",
    "    if not index:\n",
    "        index = random.randint(0, len(df) - 1)\n",
    "    print(index)\n",
    "    features_string = get_features_string(index)\n",
    "\n",
    "    print(df.loc[index, 'name'])\n",
    "    print(features_string)\n",
    "\n",
    "    features_list = features_string.split(',')\n",
    "    for feature in features_list:\n",
    "        print(f\"{feature} == 1 is {bool(df.loc[index, feature])}\")\n",
    "\n",
    "random_check()"
   ]
  },
  {
   "cell_type": "code",
   "execution_count": 353,
   "metadata": {},
   "outputs": [],
   "source": [
    "df.to_csv(\"steam_games_with_one_hot.csv\", index=False)\n"
   ]
  },
  {
   "cell_type": "code",
   "execution_count": 354,
   "metadata": {},
   "outputs": [],
   "source": [
    "df.to_excel(\"steam_games_with_one_hot.xlsx\", index=False)"
   ]
  }
 ],
 "metadata": {
  "kernelspec": {
   "display_name": "comp7240",
   "language": "python",
   "name": "python3"
  },
  "language_info": {
   "codemirror_mode": {
    "name": "ipython",
    "version": 3
   },
   "file_extension": ".py",
   "mimetype": "text/x-python",
   "name": "python",
   "nbconvert_exporter": "python",
   "pygments_lexer": "ipython3",
   "version": "3.9.19"
  }
 },
 "nbformat": 4,
 "nbformat_minor": 2
}
